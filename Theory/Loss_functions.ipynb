{
 "cells": [
  {
   "cell_type": "markdown",
   "metadata": {},
   "source": [
    "#   `Функции потерь`"
   ]
  },
  {
   "cell_type": "markdown",
   "metadata": {},
   "source": [
    "## Среднеквадратичная ошибка и задача обучения:\n",
    "$$\n",
    "Q(w, X, y) = \\frac{1}{\\ell} \\sum_{i=1}^{\\ell}(\\langle{w,x_i}\\rangle - y_i)^2 \\rightarrow min \n",
    "$$\n",
    "где $x_i$ — это $i$-ый объект датасета, $y_i$ — правильный ответ для $i$-го объекта, а $w$ — веса нашей линейной модели.\n",
    "\n",
    "Как мы помним, для линейной модели, его можно записать в матричном виде вот так:\n",
    "\n",
    "$$\n",
    "Q(w, X, y) = \\frac{1}{\\ell} || Xw - y ||^2 \\rightarrow min\n",
    "$$\n",
    "где $X$ — это матрица объекты-признаки, а $y$ — вектор правильных ответов.\n",
    "\n",
    "Если не помним:\n",
    "$$\n",
    "|| z || = \\sqrt{\\sum_{j=1}^{n} z_j^2}\n",
    "$$\n",
    "*Евклидова норма\n",
    "\n",
    "Характеристики:\n",
    "1. Из-за квадрата отклонения очень чувствительна к выбросам\n",
    "2. Популярна\n",
    "3. Применяется в случаях, когда требуется подчеркнуть большие ошибки и выбрать модель, которая дает меньше именно больших ошибок.\n",
    "\n",
    "В коде:"
   ]
  },
  {
   "cell_type": "code",
   "execution_count": 7,
   "metadata": {},
   "outputs": [
    {
     "name": "stdout",
     "output_type": "stream",
     "text": [
      "27410283.5\n"
     ]
    }
   ],
   "source": [
    "import numpy as np\n",
    "\n",
    "X = np.arange(200).reshape(20, 10)\n",
    "y = np.arange(20)\n",
    "w = np.arange(10)\n",
    "\n",
    "def calc_mse(X: np.ndarray, y: np.ndarray, w: np.ndarray) -> float:\n",
    "    \n",
    "    mse = np.square(np.dot(X,w) - y).mean()\n",
    "    return mse\n",
    "\n",
    "print(calc_mse(X, y, w))\n",
    "#https://artofproblemsolving.com/wiki/index.php/LaTeX:Symbols"
   ]
  },
  {
   "cell_type": "markdown",
   "metadata": {},
   "source": [
    "# RMSE\n",
    "\n",
    "Квадратный корень из MSE.\n",
    "$$\n",
    "RMSE(w, X, y) = \\sqrt{\\frac{1}{\\ell} \\sum_{i=1}^{\\ell}(\\langle{w,x_i}\\rangle - y_i)^2} \\rightarrow min \n",
    "$$\n",
    "В коде:"
   ]
  },
  {
   "cell_type": "code",
   "execution_count": 13,
   "metadata": {},
   "outputs": [
    {
     "name": "stdout",
     "output_type": "stream",
     "text": [
      "5235.483120018629\n"
     ]
    }
   ],
   "source": [
    "def calc_rmse(X,y,w) -> float:\n",
    "    \n",
    "    rmse = np.sqrt(np.square(np.dot(X,w) - y).mean())\n",
    "    return rmse\n",
    "\n",
    "print(calc_rmse(X,y,w))"
   ]
  },
  {
   "cell_type": "markdown",
   "metadata": {},
   "source": [
    "## Средняя абсолютная ошибка\n",
    "\n",
    "$$\n",
    "Q(a, X) = \\frac{1}{\\ell} \\sum_{i=1}^{\\ell}| a(x_i) - y_i | \\rightarrow min\n",
    "$$\n",
    "\n",
    "Пояснение:\n",
    "\n",
    "$a(x) = \\langle{w,x}\\rangle$\n",
    "\n",
    "Характеристики:\n",
    "1. Не так чувствительна к выбросам как MSE.\n",
    "2. Я бы сказал на втором месте по популярности.\n",
    "3. Все ошибки в среднем взвешены одинаково. \n",
    "\n",
    "В коде:"
   ]
  },
  {
   "cell_type": "code",
   "execution_count": 8,
   "metadata": {},
   "outputs": [
    {
     "name": "stdout",
     "output_type": "stream",
     "text": [
      "4550.5\n"
     ]
    }
   ],
   "source": [
    "def calc_mae(X: np.ndarray, y: np.ndarray, w: np.ndarray) -> float:\n",
    "    \n",
    "    mae = np.abs((np.dot(X,w) - y).mean())\n",
    "    return mae\n",
    "\n",
    "print(calc_mae(X, y, w))\n"
   ]
  },
  {
   "cell_type": "markdown",
   "metadata": {},
   "source": [
    "## $R^2$ или R2 score или Коэффициент детерминации\n",
    "\n",
    "$$\n",
    "R^2 = 1 - \\frac{\\frac{1}{\\ell} \\sum_{i}^{\\ell}(y - \\hat{y})^2}{\\frac{1}{\\ell} \\sum_{i}^{\\ell}(y - \\bar{y})^2}\n",
    "$$\n",
    "$\n",
    "Числитель:\\frac{1}{\\ell} \\sum_{i}^{\\ell}(y - \\hat{y})^2 - MSE\n",
    "$\n",
    "\n",
    "$\n",
    "Знаменатель:\\frac{1}{\\ell} \\sum_{i}^{\\ell}(y - \\bar{y})^2 - дисперсия\n",
    "$\n",
    "\n",
    "В коде:"
   ]
  },
  {
   "cell_type": "code",
   "execution_count": 9,
   "metadata": {},
   "outputs": [
    {
     "name": "stdout",
     "output_type": "stream",
     "text": [
      "-824368.4285714285\n"
     ]
    }
   ],
   "source": [
    "def r2(X: np.ndarray, y: np.ndarray, w: np.ndarray) -> float:\n",
    "    \n",
    "    y_variance = sum(y)/len(y)\n",
    "    mse = np.square(y - (np.dot(X, w))).mean()\n",
    "    dispersion = np.square(y - y_variance).mean()\n",
    "    r2 = 1 - mse/dispersion\n",
    "    return r2\n",
    "\n",
    "print(r2(X,y,w))"
   ]
  },
  {
   "cell_type": "markdown",
   "metadata": {},
   "source": [
    "## Функция потерь Хубера\n",
    "\n",
    "$$\n",
    "L_H(y,a) = \\begin{cases} \\frac{1}{2}(y-a)^2 , & |y -a| < \\delta \\\\ \\delta(|y - a| - \\frac{1}{2}\\delta), & |y - a| \\ge \\delta \\end{cases}\n",
    "$$\n",
    "\n",
    "Функционал ошибки:\n",
    "\n",
    "$$\n",
    "Q(a, X) = \\frac{1}{\\ell} \\sum_{i=1}^{\\ell}L_H(y_i, a(x_i))\n",
    "$$\n",
    "\n",
    "Пояснение:\n",
    "\n",
    "Хуберт по сути совмещает две предыдущие функции, но учитывает при этом особенности этих функций. Как мы видим, MSE он использует при условии, что отлонение строго меньше некоего порога $\\delta$, что помогает избежать полета в космос из-за выбросов. MAE же он использует когда отклонение больше или равно значению порога."
   ]
  },
  {
   "cell_type": "code",
   "execution_count": 10,
   "metadata": {},
   "outputs": [
    {
     "name": "stdout",
     "output_type": "stream",
     "text": [
      "4550.0\n"
     ]
    }
   ],
   "source": [
    "def calc_hubert_loss(X : np.ndarray, y : np.ndarray, w : np.ndarray) -> float:\n",
    "    \n",
    "    delta = float(input('Введите коэффициент дельта: '))\n",
    "    huber_mse = 0.5*(y - np.dot(X,w))**2\n",
    "    huber_mae = delta * (np.abs(y - np.dot(X,w)) - 0.5 * delta)\n",
    "    huber_loss = (np.where(np.abs(y - np.dot(X,w)) <= delta, huber_mse, huber_mae)).mean()\n",
    "    return huber_loss\n",
    "\n",
    "print(calc_hubert_loss(X, y, w))"
   ]
  },
  {
   "cell_type": "code",
   "execution_count": 11,
   "metadata": {},
   "outputs": [
    {
     "name": "stdout",
     "output_type": "stream",
     "text": [
      "4550.0\n"
     ]
    }
   ],
   "source": [
    "class Loss_functons:\n",
    "    \n",
    "    \"\"\"Класс, содержащий базовые функции потерь.\n",
    "\n",
    "        Атрибуты:\n",
    "\n",
    "        param X : np.ndarray размера (n_objects, n_features) с объектами датасета\n",
    "        param y : np.ndarray размера (n_objects,) с правильными ответами\n",
    "        param w : np.ndarray размера (n_features,) с весами линейной регрессии\n",
    "        \n",
    "        return : число -- значения функции потерь\"\"\"\n",
    "\n",
    "    def __init__(self, X, y, w) -> None:\n",
    "        self.X = X\n",
    "        self.y = y\n",
    "        self.w = w\n",
    "    \n",
    "    def calc_mse(self) -> float:\n",
    "       \n",
    "        \"\"\"Функция среднеквадратичной ошибки.\n",
    "                \n",
    "            Атрибуты:\n",
    "            \n",
    "            param X : np.ndarray размера (n_objects, n_features) с объектами датасета\n",
    "            param y : np.ndarray размера (n_objects,) с правильными ответами\n",
    "            param w : np.ndarray размера (n_features,) с весами линейной регрессии\n",
    "            \n",
    "            return : число -- значения функции потерь\"\"\"\n",
    "\n",
    "        mse = np.square(np.dot(X,w) - y).mean()\n",
    "        return mse\n",
    "    \n",
    "    def calc_rmse(self) -> float:\n",
    "\n",
    "        \"\"\"Функция корня среднеквадратичной ошибки.\n",
    "                \n",
    "            Атрибуты:\n",
    "            \n",
    "            param X : np.ndarray размера (n_objects, n_features) с объектами датасета\n",
    "            param y : np.ndarray размера (n_objects,) с правильными ответами\n",
    "            param w : np.ndarray размера (n_features,) с весами линейной регрессии\n",
    "            \n",
    "            return : число -- значения функции потерь\"\"\"\n",
    "\n",
    "        rmse = np.sqrt(np.square(np.dot(X,w) - y).mean())\n",
    "        return rmse\n",
    "    \n",
    "    def calc_mae(self) -> float:\n",
    "        \n",
    "        \"\"\"Функция средней абсолютной ошибки.\n",
    "                \n",
    "            Атрибуты:\n",
    "            \n",
    "            param X : np.ndarray размера (n_objects, n_features) с объектами датасета\n",
    "            param y : np.ndarray размера (n_objects,) с правильными ответами\n",
    "            param w : np.ndarray размера (n_features,) с весами линейной регрессии\n",
    "            \n",
    "            return : число -- значения функции потерь\"\"\"\n",
    "        \n",
    "        mae = np.abs((np.dot(X,w) - y).mean())\n",
    "        return mae\n",
    "    \n",
    "    def r2(X, y, w):\n",
    "    \n",
    "        \"\"\"Функция подсчета коэффициента детерминации.\n",
    "                    \n",
    "            Атрибуты:\n",
    "                \n",
    "            param X : np.ndarray размера (n_objects, n_features) с объектами датасета\n",
    "            param y : np.ndarray размера (n_objects,) с правильными ответами\n",
    "            param w : np.ndarray размера (n_features,) с весами линейной регрессии\n",
    "                \n",
    "            return : число -- значения функции потерь\"\"\"\n",
    "\n",
    "        y_variance = sum(y)/len(y)\n",
    "        mse = np.square(y - (np.dot(X, w))).mean()\n",
    "        dispersion = np.square(y - y_variance).mean()\n",
    "        r2 = 1 - mse/dispersion\n",
    "        return r2\n",
    "    \n",
    "    def calc_hubert_loss(self) -> float:\n",
    "        \n",
    "        \"\"\"Функция потерь Хубера.\n",
    "                \n",
    "            Атрибуты:\n",
    "            \n",
    "            param X : np.ndarray размера (n_objects, n_features) с объектами датасета\n",
    "            param y : np.ndarray размера (n_objects,) с правильными ответами\n",
    "            param w : np.ndarray размера (n_features,) с весами линейной регрессии\n",
    "            param delta : float, значение порога, вводится внутри ф-ции\n",
    "            \n",
    "            return : число -- значения функции потерь\"\"\"\n",
    "        \n",
    "        delta = float(input('Введите коэффициент дельта: '))\n",
    "        huber_mse = 0.5*(y - np.dot(X,w))**2\n",
    "        huber_mae = delta * (np.abs(y - np.dot(X,w)) - 0.5 * delta)\n",
    "        huber_loss = (np.where(np.abs(y - np.dot(X,w)) <= delta, huber_mse, huber_mae)).mean()\n",
    "        return huber_loss\n",
    "    \n",
    "X = np.arange(200).reshape(20,10)\n",
    "y = np.arange(20)\n",
    "w = np.arange(10)\n",
    "\n",
    "func1 = Loss_functons(X, y, w)\n",
    "print(func1.calc_hubert_loss())"
   ]
  }
 ],
 "metadata": {
  "kernelspec": {
   "display_name": "base",
   "language": "python",
   "name": "python3"
  },
  "language_info": {
   "codemirror_mode": {
    "name": "ipython",
    "version": 3
   },
   "file_extension": ".py",
   "mimetype": "text/x-python",
   "name": "python",
   "nbconvert_exporter": "python",
   "pygments_lexer": "ipython3",
   "version": "3.11.5"
  }
 },
 "nbformat": 4,
 "nbformat_minor": 2
}
