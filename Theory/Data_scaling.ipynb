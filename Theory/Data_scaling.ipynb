{
 "cells": [
  {
   "cell_type": "markdown",
   "metadata": {},
   "source": [
    "# `Масштабирование данных`"
   ]
  },
  {
   "cell_type": "markdown",
   "metadata": {},
   "source": [
    "## Нормализация\n",
    "\n",
    "Для начала импортируем датасет:"
   ]
  },
  {
   "cell_type": "code",
   "execution_count": 1,
   "metadata": {},
   "outputs": [
    {
     "data": {
      "text/html": [
       "<div>\n",
       "<style scoped>\n",
       "    .dataframe tbody tr th:only-of-type {\n",
       "        vertical-align: middle;\n",
       "    }\n",
       "\n",
       "    .dataframe tbody tr th {\n",
       "        vertical-align: top;\n",
       "    }\n",
       "\n",
       "    .dataframe thead th {\n",
       "        text-align: right;\n",
       "    }\n",
       "</style>\n",
       "<table border=\"1\" class=\"dataframe\">\n",
       "  <thead>\n",
       "    <tr style=\"text-align: right;\">\n",
       "      <th></th>\n",
       "      <th>MedInc</th>\n",
       "      <th>HouseAge</th>\n",
       "      <th>AveRooms</th>\n",
       "      <th>AveBedrms</th>\n",
       "      <th>Population</th>\n",
       "      <th>AveOccup</th>\n",
       "      <th>Latitude</th>\n",
       "      <th>Longitude</th>\n",
       "    </tr>\n",
       "  </thead>\n",
       "  <tbody>\n",
       "    <tr>\n",
       "      <th>0</th>\n",
       "      <td>8.3252</td>\n",
       "      <td>41.0</td>\n",
       "      <td>6.984127</td>\n",
       "      <td>1.023810</td>\n",
       "      <td>322.0</td>\n",
       "      <td>2.555556</td>\n",
       "      <td>37.88</td>\n",
       "      <td>-122.23</td>\n",
       "    </tr>\n",
       "    <tr>\n",
       "      <th>1</th>\n",
       "      <td>8.3014</td>\n",
       "      <td>21.0</td>\n",
       "      <td>6.238137</td>\n",
       "      <td>0.971880</td>\n",
       "      <td>2401.0</td>\n",
       "      <td>2.109842</td>\n",
       "      <td>37.86</td>\n",
       "      <td>-122.22</td>\n",
       "    </tr>\n",
       "    <tr>\n",
       "      <th>2</th>\n",
       "      <td>7.2574</td>\n",
       "      <td>52.0</td>\n",
       "      <td>8.288136</td>\n",
       "      <td>1.073446</td>\n",
       "      <td>496.0</td>\n",
       "      <td>2.802260</td>\n",
       "      <td>37.85</td>\n",
       "      <td>-122.24</td>\n",
       "    </tr>\n",
       "    <tr>\n",
       "      <th>3</th>\n",
       "      <td>5.6431</td>\n",
       "      <td>52.0</td>\n",
       "      <td>5.817352</td>\n",
       "      <td>1.073059</td>\n",
       "      <td>558.0</td>\n",
       "      <td>2.547945</td>\n",
       "      <td>37.85</td>\n",
       "      <td>-122.25</td>\n",
       "    </tr>\n",
       "    <tr>\n",
       "      <th>4</th>\n",
       "      <td>3.8462</td>\n",
       "      <td>52.0</td>\n",
       "      <td>6.281853</td>\n",
       "      <td>1.081081</td>\n",
       "      <td>565.0</td>\n",
       "      <td>2.181467</td>\n",
       "      <td>37.85</td>\n",
       "      <td>-122.25</td>\n",
       "    </tr>\n",
       "  </tbody>\n",
       "</table>\n",
       "</div>"
      ],
      "text/plain": [
       "   MedInc  HouseAge  AveRooms  AveBedrms  Population  AveOccup  Latitude  \\\n",
       "0  8.3252      41.0  6.984127   1.023810       322.0  2.555556     37.88   \n",
       "1  8.3014      21.0  6.238137   0.971880      2401.0  2.109842     37.86   \n",
       "2  7.2574      52.0  8.288136   1.073446       496.0  2.802260     37.85   \n",
       "3  5.6431      52.0  5.817352   1.073059       558.0  2.547945     37.85   \n",
       "4  3.8462      52.0  6.281853   1.081081       565.0  2.181467     37.85   \n",
       "\n",
       "   Longitude  \n",
       "0    -122.23  \n",
       "1    -122.22  \n",
       "2    -122.24  \n",
       "3    -122.25  \n",
       "4    -122.25  "
      ]
     },
     "execution_count": 1,
     "metadata": {},
     "output_type": "execute_result"
    }
   ],
   "source": [
    "import pandas as pd\n",
    "from sklearn.datasets import fetch_california_housing\n",
    "\n",
    "data = fetch_california_housing()\n",
    "X = pd.DataFrame(data['data'], columns=data['feature_names'])\n",
    "y = data['target']\n",
    "\n",
    "X.head()"
   ]
  },
  {
   "cell_type": "markdown",
   "metadata": {},
   "source": [
    "## Разбиение выборки:"
   ]
  },
  {
   "cell_type": "code",
   "execution_count": 2,
   "metadata": {},
   "outputs": [],
   "source": [
    "from sklearn.model_selection import train_test_split\n",
    "\n",
    "X_train, X_test, y_train, y_test = train_test_split(X, y, random_state=10, test_size=0.2)\n"
   ]
  },
  {
   "cell_type": "markdown",
   "metadata": {},
   "source": [
    "##  Тренируем модель:"
   ]
  },
  {
   "cell_type": "code",
   "execution_count": 3,
   "metadata": {},
   "outputs": [
    {
     "name": "stdout",
     "output_type": "stream",
     "text": [
      "R2 score: 0.17733954829415377\n"
     ]
    }
   ],
   "source": [
    "from sklearn.neighbors import KNeighborsRegressor\n",
    "from sklearn.metrics import r2_score\n",
    "\n",
    "knn = KNeighborsRegressor()\n",
    "knn.fit(X_train, y_train)\n",
    "y_pred = knn.predict(X_test)\n",
    "\n",
    "print(f'R2 score: {r2_score(y_test, y_pred)}') # метрика ужасная"
   ]
  },
  {
   "cell_type": "markdown",
   "metadata": {},
   "source": [
    "## Причина тому - отсутсвие нормализации. Произведем нормализацию идентичную `MinMaxScaler`:\n",
    "\n",
    "$$\n",
    "x_s = \\frac{x - min}{max - min}\n",
    "$$"
   ]
  },
  {
   "cell_type": "code",
   "execution_count": 4,
   "metadata": {},
   "outputs": [
    {
     "data": {
      "text/html": [
       "<div>\n",
       "<style scoped>\n",
       "    .dataframe tbody tr th:only-of-type {\n",
       "        vertical-align: middle;\n",
       "    }\n",
       "\n",
       "    .dataframe tbody tr th {\n",
       "        vertical-align: top;\n",
       "    }\n",
       "\n",
       "    .dataframe thead th {\n",
       "        text-align: right;\n",
       "    }\n",
       "</style>\n",
       "<table border=\"1\" class=\"dataframe\">\n",
       "  <thead>\n",
       "    <tr style=\"text-align: right;\">\n",
       "      <th></th>\n",
       "      <th>MedInc</th>\n",
       "      <th>HouseAge</th>\n",
       "      <th>AveRooms</th>\n",
       "      <th>AveBedrms</th>\n",
       "      <th>Population</th>\n",
       "      <th>AveOccup</th>\n",
       "      <th>Latitude</th>\n",
       "      <th>Longitude</th>\n",
       "    </tr>\n",
       "  </thead>\n",
       "  <tbody>\n",
       "    <tr>\n",
       "      <th>count</th>\n",
       "      <td>4128.000000</td>\n",
       "      <td>4128.000000</td>\n",
       "      <td>4128.000000</td>\n",
       "      <td>4128.000000</td>\n",
       "      <td>4128.000000</td>\n",
       "      <td>4128.000000</td>\n",
       "      <td>4128.000000</td>\n",
       "      <td>4128.000000</td>\n",
       "    </tr>\n",
       "    <tr>\n",
       "      <th>mean</th>\n",
       "      <td>0.234496</td>\n",
       "      <td>0.544198</td>\n",
       "      <td>0.032414</td>\n",
       "      <td>0.022440</td>\n",
       "      <td>0.039816</td>\n",
       "      <td>0.004262</td>\n",
       "      <td>0.325244</td>\n",
       "      <td>0.478847</td>\n",
       "    </tr>\n",
       "    <tr>\n",
       "      <th>std</th>\n",
       "      <td>0.133330</td>\n",
       "      <td>0.243659</td>\n",
       "      <td>0.013532</td>\n",
       "      <td>0.010172</td>\n",
       "      <td>0.031321</td>\n",
       "      <td>0.032298</td>\n",
       "      <td>0.225655</td>\n",
       "      <td>0.198421</td>\n",
       "    </tr>\n",
       "    <tr>\n",
       "      <th>min</th>\n",
       "      <td>0.000000</td>\n",
       "      <td>0.000000</td>\n",
       "      <td>0.002015</td>\n",
       "      <td>0.003294</td>\n",
       "      <td>0.000056</td>\n",
       "      <td>0.000465</td>\n",
       "      <td>0.002125</td>\n",
       "      <td>0.004980</td>\n",
       "    </tr>\n",
       "    <tr>\n",
       "      <th>25%</th>\n",
       "      <td>0.143938</td>\n",
       "      <td>0.333333</td>\n",
       "      <td>0.025715</td>\n",
       "      <td>0.019910</td>\n",
       "      <td>0.022142</td>\n",
       "      <td>0.002904</td>\n",
       "      <td>0.148778</td>\n",
       "      <td>0.258715</td>\n",
       "    </tr>\n",
       "    <tr>\n",
       "      <th>50%</th>\n",
       "      <td>0.210390</td>\n",
       "      <td>0.549020</td>\n",
       "      <td>0.031240</td>\n",
       "      <td>0.021195</td>\n",
       "      <td>0.032680</td>\n",
       "      <td>0.003552</td>\n",
       "      <td>0.180659</td>\n",
       "      <td>0.584661</td>\n",
       "    </tr>\n",
       "    <tr>\n",
       "      <th>75%</th>\n",
       "      <td>0.294279</td>\n",
       "      <td>0.705882</td>\n",
       "      <td>0.036861</td>\n",
       "      <td>0.022743</td>\n",
       "      <td>0.047619</td>\n",
       "      <td>0.004325</td>\n",
       "      <td>0.548353</td>\n",
       "      <td>0.631474</td>\n",
       "    </tr>\n",
       "    <tr>\n",
       "      <th>max</th>\n",
       "      <td>1.000000</td>\n",
       "      <td>1.000000</td>\n",
       "      <td>0.436515</td>\n",
       "      <td>0.408432</td>\n",
       "      <td>0.451778</td>\n",
       "      <td>2.074450</td>\n",
       "      <td>0.988310</td>\n",
       "      <td>0.982072</td>\n",
       "    </tr>\n",
       "  </tbody>\n",
       "</table>\n",
       "</div>"
      ],
      "text/plain": [
       "            MedInc     HouseAge     AveRooms    AveBedrms   Population  \\\n",
       "count  4128.000000  4128.000000  4128.000000  4128.000000  4128.000000   \n",
       "mean      0.234496     0.544198     0.032414     0.022440     0.039816   \n",
       "std       0.133330     0.243659     0.013532     0.010172     0.031321   \n",
       "min       0.000000     0.000000     0.002015     0.003294     0.000056   \n",
       "25%       0.143938     0.333333     0.025715     0.019910     0.022142   \n",
       "50%       0.210390     0.549020     0.031240     0.021195     0.032680   \n",
       "75%       0.294279     0.705882     0.036861     0.022743     0.047619   \n",
       "max       1.000000     1.000000     0.436515     0.408432     0.451778   \n",
       "\n",
       "          AveOccup     Latitude    Longitude  \n",
       "count  4128.000000  4128.000000  4128.000000  \n",
       "mean      0.004262     0.325244     0.478847  \n",
       "std       0.032298     0.225655     0.198421  \n",
       "min       0.000465     0.002125     0.004980  \n",
       "25%       0.002904     0.148778     0.258715  \n",
       "50%       0.003552     0.180659     0.584661  \n",
       "75%       0.004325     0.548353     0.631474  \n",
       "max       2.074450     0.988310     0.982072  "
      ]
     },
     "execution_count": 4,
     "metadata": {},
     "output_type": "execute_result"
    }
   ],
   "source": [
    "max_val = X_train.max()\n",
    "min_val = X_train.min()\n",
    "X_train_norm = X_train.copy()\n",
    "\n",
    "for i in X_train.columns:\n",
    "    X_train_norm[i] = (X_train[i] - min_val[i])/(max_val[i] - min_val[i]) # для обучающей выборки\n",
    "\n",
    "# Или (X_train - min_val)/(max_val - min_val), реализуем это на тестовой выборке\n",
    "\n",
    "X_test_norm = (X_test - min_val)/(max_val - min_val)\n",
    "\n",
    "X_train_norm.head()\n",
    "X_test_norm.describe()"
   ]
  },
  {
   "cell_type": "markdown",
   "metadata": {},
   "source": [
    "## Заново обучим модель:"
   ]
  },
  {
   "cell_type": "code",
   "execution_count": 5,
   "metadata": {},
   "outputs": [
    {
     "name": "stdout",
     "output_type": "stream",
     "text": [
      "R2 score: 0.6999378722006064\n"
     ]
    }
   ],
   "source": [
    "knn_norm = KNeighborsRegressor()\n",
    "knn_norm.fit(X_train_norm, y_train)\n",
    "y_pred_norm = knn_norm.predict(X_test_norm)\n",
    "\n",
    "print(f'R2 score: {r2_score(y_test, y_pred_norm)}') # красота"
   ]
  },
  {
   "cell_type": "markdown",
   "metadata": {},
   "source": [
    "# Для линейных моделей особой разницы не наблюдается:"
   ]
  },
  {
   "cell_type": "code",
   "execution_count": 6,
   "metadata": {},
   "outputs": [
    {
     "name": "stdout",
     "output_type": "stream",
     "text": [
      "R2 without normalization: 0.6009790143129103\n",
      "R2 with normalization: 0.6009790143129106\n"
     ]
    }
   ],
   "source": [
    "from sklearn.linear_model import LinearRegression\n",
    "\n",
    "linreg = LinearRegression()\n",
    "linreg.fit(X_train, y_train)\n",
    "y_pred_lin = linreg.predict(X_test) # Обучение на начальных данных\n",
    "\n",
    "linreg_norm = LinearRegression()\n",
    "linreg_norm.fit(X_train_norm, y_train)\n",
    "y_pred_lin_norm = linreg_norm.predict(X_test_norm) # Обучение на нормализованных данных\n",
    "\n",
    "print(f'R2 without normalization: {r2_score(y_test, y_pred_lin)}')\n",
    "print(f'R2 with normalization: {r2_score(y_test, y_pred_lin_norm)}')"
   ]
  },
  {
   "cell_type": "markdown",
   "metadata": {},
   "source": [
    "# Стандартизация\n",
    "\n",
    "## Делаем подобие `StandardScaler`:\n",
    "\n",
    "$$\n",
    "x_s = \\frac{x - mean}{std}\n",
    "$$\n"
   ]
  },
  {
   "cell_type": "code",
   "execution_count": 7,
   "metadata": {},
   "outputs": [],
   "source": [
    "mean_val = X_train.mean()\n",
    "std_var = X_train.std()\n",
    "X_train_std = X_train.copy()\n",
    "\n",
    "for i in X_train.columns:\n",
    "    X_train_std = (X_train - mean_val) / (std_var)\n",
    "\n",
    "X_test_std = X_test.copy()\n",
    "\n",
    "for i in X_test.columns:\n",
    "    X_test_std = (X_test - mean_val) / (std_var)"
   ]
  },
  {
   "cell_type": "markdown",
   "metadata": {},
   "source": [
    "## Обучение моделей: "
   ]
  },
  {
   "cell_type": "code",
   "execution_count": 9,
   "metadata": {},
   "outputs": [
    {
     "name": "stdout",
     "output_type": "stream",
     "text": [
      "R2 score without standartization: 0.17733954829415377\n",
      "R2 score with it: 0.6995524587495723\n"
     ]
    }
   ],
   "source": [
    "knn2 = KNeighborsRegressor()\n",
    "knn2.fit(X_train_std, y_train)\n",
    "y_pred_std_knn = knn2.predict(X_test_std)\n",
    "\n",
    "\n",
    "print(f'R2 score without standartization: {r2_score(y_test, y_pred)}')\n",
    "print(f'R2 score with it: {r2_score(y_test, y_pred_std_knn)}')"
   ]
  },
  {
   "cell_type": "code",
   "execution_count": 10,
   "metadata": {},
   "outputs": [
    {
     "name": "stdout",
     "output_type": "stream",
     "text": [
      "R2 score without standartization: 0.6009790143129103\n",
      "R2 score with it: 0.6009790143129106\n"
     ]
    }
   ],
   "source": [
    "lin2 = LinearRegression()\n",
    "lin2.fit(X_train_std, y_train)\n",
    "y_pred_std_lin = lin2.predict(X_test_std)\n",
    "\n",
    "\n",
    "print(f'R2 score without standartization: {r2_score(y_test, y_pred_lin)}')\n",
    "print(f'R2 score with it: {r2_score(y_test, y_pred_std_lin)}')"
   ]
  }
 ],
 "metadata": {
  "kernelspec": {
   "display_name": "base",
   "language": "python",
   "name": "python3"
  },
  "language_info": {
   "codemirror_mode": {
    "name": "ipython",
    "version": 3
   },
   "file_extension": ".py",
   "mimetype": "text/x-python",
   "name": "python",
   "nbconvert_exporter": "python",
   "pygments_lexer": "ipython3",
   "version": "3.11.5"
  }
 },
 "nbformat": 4,
 "nbformat_minor": 2
}
