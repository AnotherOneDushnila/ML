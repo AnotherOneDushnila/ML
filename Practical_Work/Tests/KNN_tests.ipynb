{
 "cells": [
  {
   "cell_type": "code",
   "execution_count": 1,
   "metadata": {},
   "outputs": [],
   "source": [
    "import sys\n",
    "sys.path.insert(0, '..')"
   ]
  },
  {
   "cell_type": "code",
   "execution_count": 2,
   "metadata": {},
   "outputs": [],
   "source": [
    "from Utils.RegressionLoss import Loss_Functions\n",
    "from Models.KNN import KNN_Classifier, KNN_Regressor\n",
    "from Utils.Scalers import Scalers\n",
    "from sklearn.model_selection import train_test_split\n",
    "from sklearn import datasets\n",
    "from sklearn.metrics import log_loss, accuracy_score\n",
    "import matplotlib.pyplot as plt\n",
    "import numpy as np"
   ]
  },
  {
   "cell_type": "code",
   "execution_count": 3,
   "metadata": {},
   "outputs": [],
   "source": [
    "X, y = datasets.make_classification()\n",
    "scale = Scalers()\n",
    "loss = Loss_Functions()\n",
    "my_x_sscale = scale.StandardScaler(X)\n",
    "my_x_sscale_train, my_x_sscale_test, y_train, y_test = train_test_split(my_x_sscale, y, test_size=0.2, train_size=0.8, random_state=0)\n",
    "X_train, X_test, y_train, y_test = train_test_split(X, y, test_size=0.2, train_size=0.8, random_state=0)"
   ]
  },
  {
   "cell_type": "markdown",
   "metadata": {},
   "source": [
    "### Классификация с помощью `собственной` реализации и сравнение с `Sklearn`:"
   ]
  },
  {
   "cell_type": "code",
   "execution_count": 4,
   "metadata": {},
   "outputs": [
    {
     "name": "stdout",
     "output_type": "stream",
     "text": [
      "12.615278686191001\n",
      "0.65\n"
     ]
    }
   ],
   "source": [
    "classifier = KNN_Classifier(k=1)\n",
    "classifier.fit(X_train, y_train)\n",
    "y_pred = classifier.predict(X_test)\n",
    "\n",
    "print(log_loss(y_test, y_pred))\n",
    "print(accuracy_score(y_test, y_pred))"
   ]
  },
  {
   "cell_type": "code",
   "execution_count": 5,
   "metadata": {},
   "outputs": [
    {
     "name": "stdout",
     "output_type": "stream",
     "text": [
      "12.615278686191001\n",
      "0.65\n"
     ]
    }
   ],
   "source": [
    "from sklearn.neighbors import KNeighborsClassifier\n",
    "\n",
    "\n",
    "sklearn_classifier = KNeighborsClassifier(n_neighbors=1)\n",
    "sklearn_classifier.fit(X_train, y_train)\n",
    "y_pred2 = sklearn_classifier.predict(X_test)\n",
    "\n",
    "print(log_loss(y_test, y_pred2))\n",
    "print(accuracy_score(y_test, y_pred2))"
   ]
  },
  {
   "cell_type": "markdown",
   "metadata": {},
   "source": [
    "### Регрессия с помощью `собственной` реализации и сравнение с `Sklearn`:"
   ]
  },
  {
   "cell_type": "code",
   "execution_count": 6,
   "metadata": {},
   "outputs": [
    {
     "name": "stdout",
     "output_type": "stream",
     "text": [
      "0.35\n"
     ]
    }
   ],
   "source": [
    "regressor = KNN_Regressor(k=1)\n",
    "regressor.fit(X_train, y_train) # Без стандартизации\n",
    "y_pred3 = regressor.predict(X_test)\n",
    "\n",
    "print(loss.MSE(y_test, y_pred3))"
   ]
  },
  {
   "cell_type": "code",
   "execution_count": 7,
   "metadata": {},
   "outputs": [
    {
     "name": "stdout",
     "output_type": "stream",
     "text": [
      "0.35\n"
     ]
    }
   ],
   "source": [
    "from sklearn.neighbors import KNeighborsRegressor\n",
    "\n",
    "sklearn_regressor = KNeighborsRegressor(n_neighbors=1)\n",
    "sklearn_regressor.fit(X_train, y_train) # Без стандартизации\n",
    "y_pred4 = sklearn_regressor.predict(X_test)\n",
    "\n",
    "print(loss.MSE(y_test, y_pred4))"
   ]
  },
  {
   "cell_type": "code",
   "execution_count": 8,
   "metadata": {},
   "outputs": [
    {
     "name": "stdout",
     "output_type": "stream",
     "text": [
      "0.3\n"
     ]
    }
   ],
   "source": [
    "regressor = KNN_Regressor(k=1)\n",
    "regressor.fit(my_x_sscale_train, y_train) # Со стандартизацией\n",
    "y_pred5 = regressor.predict(X_test)\n",
    "\n",
    "print(loss.MSE(y_test, y_pred5))"
   ]
  },
  {
   "cell_type": "code",
   "execution_count": 9,
   "metadata": {},
   "outputs": [
    {
     "name": "stdout",
     "output_type": "stream",
     "text": [
      "0.3\n"
     ]
    }
   ],
   "source": [
    "from sklearn.neighbors import KNeighborsRegressor\n",
    "\n",
    "sklearn_regressor = KNeighborsRegressor(n_neighbors=1)\n",
    "sklearn_regressor.fit(my_x_sscale_train, y_train) # Со стандартизацией\n",
    "y_pred6 = sklearn_regressor.predict(X_test)\n",
    "\n",
    "print(loss.MSE(y_test, y_pred6))"
   ]
  }
 ],
 "metadata": {
  "kernelspec": {
   "display_name": "Python 3",
   "language": "python",
   "name": "python3"
  },
  "language_info": {
   "codemirror_mode": {
    "name": "ipython",
    "version": 3
   },
   "file_extension": ".py",
   "mimetype": "text/x-python",
   "name": "python",
   "nbconvert_exporter": "python",
   "pygments_lexer": "ipython3",
   "version": "3.11.9"
  }
 },
 "nbformat": 4,
 "nbformat_minor": 2
}
