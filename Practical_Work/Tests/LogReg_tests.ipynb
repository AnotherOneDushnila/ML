{
 "cells": [
  {
   "cell_type": "code",
   "execution_count": 37,
   "metadata": {},
   "outputs": [],
   "source": [
    "import sys\n",
    "sys.path.insert(0, '..')"
   ]
  },
  {
   "cell_type": "code",
   "execution_count": 38,
   "metadata": {},
   "outputs": [],
   "source": [
    "from Models.LogReg import LogisticRegression\n",
    "from Utils.ClassificationLoss import Loss_functions\n",
    "from Utils.Scalers import Scalers\n",
    "from sklearn.model_selection import train_test_split\n",
    "from sklearn import datasets\n",
    "from sklearn.metrics import log_loss, accuracy_score\n",
    "import matplotlib.pyplot as plt\n",
    "import numpy as np"
   ]
  },
  {
   "cell_type": "markdown",
   "metadata": {},
   "source": [
    "## Делаем датасет и нормализацию"
   ]
  },
  {
   "cell_type": "code",
   "execution_count": 39,
   "metadata": {},
   "outputs": [],
   "source": [
    "X, y = datasets.make_classification()\n",
    "scale = Scalers()\n",
    "loss = Loss_functions()\n",
    "my_x_sscale = scale.StandardScaler(X)\n",
    "X_train, X_test, y_train, y_test = train_test_split(X, y, test_size=0.2, train_size=0.8, random_state=0)"
   ]
  },
  {
   "cell_type": "markdown",
   "metadata": {},
   "source": [
    "## Собственная реализация:"
   ]
  },
  {
   "cell_type": "code",
   "execution_count": 40,
   "metadata": {},
   "outputs": [
    {
     "name": "stdout",
     "output_type": "stream",
     "text": [
      "3.604365338911715\n",
      "My accuracy score: 0.9\n",
      "Sklearn accuracy score: 0.9\n"
     ]
    }
   ],
   "source": [
    "classifier = LogisticRegression(alpha=0)\n",
    "classifier.fit(X_train, y_train)\n",
    "y_pred = classifier.predict(X_test)\n",
    "\n",
    "#print(loss.log_loss(y_test, y_pred))\n",
    "print(log_loss(y_test, y_pred))\n",
    "print(f'My accuracy score: {loss.Accuracy_score(y_pred, y_test)}')\n",
    "print(f'Sklearn accuracy score: {accuracy_score(y_pred, y_test)}')"
   ]
  },
  {
   "cell_type": "code",
   "execution_count": 41,
   "metadata": {},
   "outputs": [
    {
     "name": "stdout",
     "output_type": "stream",
     "text": [
      "10.813096016735145\n",
      "Sklearn accuracy score: 0.7\n"
     ]
    }
   ],
   "source": [
    "classifier_regul = LogisticRegression(alpha=1, mode=2)\n",
    "classifier_regul.fit(X_train, y_train)\n",
    "y_pred = classifier_regul.predict(X_test)\n",
    "\n",
    "print(log_loss(y_test, y_pred))\n",
    "print(f'Sklearn accuracy score: {accuracy_score(y_pred, y_test)}')"
   ]
  },
  {
   "cell_type": "markdown",
   "metadata": {},
   "source": [
    "## Реализации `Sklearn`:"
   ]
  },
  {
   "cell_type": "code",
   "execution_count": 42,
   "metadata": {},
   "outputs": [
    {
     "name": "stdout",
     "output_type": "stream",
     "text": [
      "10.813096016735146\n",
      "Accuracy score: 0.7\n"
     ]
    }
   ],
   "source": [
    "from sklearn.linear_model import LogisticRegression\n",
    "\n",
    "classifiers = LogisticRegression()\n",
    "classifiers.fit(X_train, y_train)\n",
    "y_pred2 = classifiers.predict(X_test)\n",
    "\n",
    "print(log_loss(y_test, y_pred2))\n",
    "print(f'Accuracy score: {accuracy_score(y_pred2, y_test)}')"
   ]
  },
  {
   "cell_type": "code",
   "execution_count": 43,
   "metadata": {},
   "outputs": [
    {
     "name": "stdout",
     "output_type": "stream",
     "text": [
      "Logloss: 3.604365338911715\n",
      "Accuracy score: 0.9\n",
      "Best alpha: 1\n"
     ]
    }
   ],
   "source": [
    "from Models.LogReg import LogisticRegression\n",
    "\n",
    "best_alpha = 0\n",
    "best_logloss = 0\n",
    "\n",
    "for i in range(0, 1000):\n",
    "    best_classifier = LogisticRegression(alpha = i, mode = 2)\n",
    "    best_classifier.fit(X_train, y_train)\n",
    "    best_pred = best_classifier.predict(X_test)\n",
    "    if log_loss(y_test, best_pred) > best_logloss:\n",
    "        best_alpha = i\n",
    "        best_logloss = log_loss(y_test, best_pred)\n",
    "\n",
    "logreg = LogisticRegression(alpha = i, mode=2)\n",
    "logreg.fit(X_train, y_train)\n",
    "prediction = logreg.predict(X_test)\n",
    "\n",
    "print(f'Logloss: {log_loss(y_test, prediction)}')\n",
    "print(f'Accuracy score: {accuracy_score(y_test, prediction)}')\n",
    "print(f'Best alpha: {best_alpha}')\n",
    "\n",
    "# Хз почему так. Возможно потому, что смысл регуляризации не в снижении значения ф-ции потерь, а в улучшении показателей на разных выборках."
   ]
  }
 ],
 "metadata": {
  "kernelspec": {
   "display_name": "base",
   "language": "python",
   "name": "python3"
  },
  "language_info": {
   "codemirror_mode": {
    "name": "ipython",
    "version": 3
   },
   "file_extension": ".py",
   "mimetype": "text/x-python",
   "name": "python",
   "nbconvert_exporter": "python",
   "pygments_lexer": "ipython3",
   "version": "3.11.5"
  }
 },
 "nbformat": 4,
 "nbformat_minor": 2
}
