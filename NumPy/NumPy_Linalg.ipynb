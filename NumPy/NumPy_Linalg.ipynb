{
 "cells": [
  {
   "cell_type": "markdown",
   "metadata": {},
   "source": [
    "# NumPy Linalg\n",
    "\n",
    "#### Это модуль состоит из множества функций линейной алгебры"
   ]
  },
  {
   "cell_type": "code",
   "execution_count": 3,
   "metadata": {},
   "outputs": [
    {
     "data": {
      "text/plain": [
       "array([[  1,   2,   3,   4,   5,   6,   7,   8,   9,  10],\n",
       "       [ 11,  12,  13,  14,  15,  16,  17,  18,  19,  20],\n",
       "       [ 21,  22,  23,  24,  25,  26,  27,  28,  29,  30],\n",
       "       [ 31,  32,  33,  34,  35,  36,  37,  38,  39,  40],\n",
       "       [ 41,  42,  43,  44,  45,  46,  47,  48,  49,  50],\n",
       "       [ 51,  52,  53,  54,  55,  56,  57,  58,  59,  60],\n",
       "       [ 61,  62,  63,  64,  65,  66,  67,  68,  69,  70],\n",
       "       [ 71,  72,  73,  74,  75,  76,  77,  78,  79,  80],\n",
       "       [ 81,  82,  83,  84,  85,  86,  87,  88,  89,  90],\n",
       "       [ 91,  92,  93,  94,  95,  96,  97,  98,  99, 100]])"
      ]
     },
     "execution_count": 3,
     "metadata": {},
     "output_type": "execute_result"
    }
   ],
   "source": [
    "import numpy as np\n",
    "\n",
    "arr = np.arange(1,101).reshape(10,10)\n",
    "arr"
   ]
  },
  {
   "cell_type": "markdown",
   "metadata": {},
   "source": [
    "## Функции:"
   ]
  },
  {
   "cell_type": "code",
   "execution_count": 13,
   "metadata": {},
   "outputs": [
    {
     "name": "stdout",
     "output_type": "stream",
     "text": [
      "[[ 3355  3410  3465  3520  3575  3630  3685  3740  3795  3850]\n",
      " [ 7955  8110  8265  8420  8575  8730  8885  9040  9195  9350]\n",
      " [12555 12810 13065 13320 13575 13830 14085 14340 14595 14850]\n",
      " [17155 17510 17865 18220 18575 18930 19285 19640 19995 20350]\n",
      " [21755 22210 22665 23120 23575 24030 24485 24940 25395 25850]\n",
      " [26355 26910 27465 28020 28575 29130 29685 30240 30795 31350]\n",
      " [30955 31610 32265 32920 33575 34230 34885 35540 36195 36850]\n",
      " [35555 36310 37065 37820 38575 39330 40085 40840 41595 42350]\n",
      " [40155 41010 41865 42720 43575 44430 45285 46140 46995 47850]\n",
      " [44755 45710 46665 47620 48575 49530 50485 51440 52395 53350]]\n"
     ]
    }
   ],
   "source": [
    "power = np.linalg.matrix_power(arr, 2) # Возведение матрицы в степень 2\n",
    "print(power)"
   ]
  },
  {
   "cell_type": "code",
   "execution_count": 11,
   "metadata": {},
   "outputs": [
    {
     "data": {
      "text/plain": [
       "array([[ 0.67777778, -0.58888889,  0.03333333],\n",
       "       [ 3.67777778, -2.58888889,  0.03333333],\n",
       "       [-3.01111111,  2.25555556, -0.03333333]])"
      ]
     },
     "execution_count": 11,
     "metadata": {},
     "output_type": "execute_result"
    }
   ],
   "source": [
    "matrix = np.array([[1.,5.,6.], [2.,7.,9.], [45.,22.,37.]])\n",
    "inv = np.linalg.inv(matrix) # Обратная матрица\n",
    "inv"
   ]
  },
  {
   "cell_type": "code",
   "execution_count": 15,
   "metadata": {},
   "outputs": [
    {
     "data": {
      "text/plain": [
       "89.99999999999976"
      ]
     },
     "execution_count": 15,
     "metadata": {},
     "output_type": "execute_result"
    }
   ],
   "source": [
    "np.linalg.det(matrix) # Определитель матрицы"
   ]
  },
  {
   "cell_type": "code",
   "execution_count": 16,
   "metadata": {},
   "outputs": [
    {
     "data": {
      "text/plain": [
       "9.539392014169456"
      ]
     },
     "execution_count": 16,
     "metadata": {},
     "output_type": "execute_result"
    }
   ],
   "source": [
    "vec = np.array([[1, 2], [3, 4], [5, 6]])\n",
    "np.linalg.norm(vec) # Норма вектора"
   ]
  }
 ],
 "metadata": {
  "kernelspec": {
   "display_name": "base",
   "language": "python",
   "name": "python3"
  },
  "language_info": {
   "codemirror_mode": {
    "name": "ipython",
    "version": 3
   },
   "file_extension": ".py",
   "mimetype": "text/x-python",
   "name": "python",
   "nbconvert_exporter": "python",
   "pygments_lexer": "ipython3",
   "version": "3.11.5"
  }
 },
 "nbformat": 4,
 "nbformat_minor": 2
}
